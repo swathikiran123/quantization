{
  "cells": [
    {
      "cell_type": "code",
      "execution_count": 1,
      "metadata": {
        "colab": {
          "base_uri": "https://localhost:8080/",
          "height": 516
        },
        "id": "EGPkKRIh3mT5",
        "outputId": "46d55007-dad0-4241-f971-617f9ac1c5ec"
      },
      "outputs": [
        {
          "output_type": "stream",
          "name": "stdout",
          "text": [
            "Collecting tensorflow-model-optimization\n",
            "  Downloading tensorflow_model_optimization-0.8.0-py2.py3-none-any.whl.metadata (904 bytes)\n",
            "Requirement already satisfied: absl-py~=1.2 in /usr/local/lib/python3.11/dist-packages (from tensorflow-model-optimization) (1.4.0)\n",
            "Requirement already satisfied: dm-tree~=0.1.1 in /usr/local/lib/python3.11/dist-packages (from tensorflow-model-optimization) (0.1.9)\n",
            "Collecting numpy~=1.23 (from tensorflow-model-optimization)\n",
            "  Downloading numpy-1.26.4-cp311-cp311-manylinux_2_17_x86_64.manylinux2014_x86_64.whl.metadata (61 kB)\n",
            "\u001b[2K     \u001b[90m━━━━━━━━━━━━━━━━━━━━━━━━━━━━━━━━━━━━━━━━\u001b[0m \u001b[32m61.0/61.0 kB\u001b[0m \u001b[31m4.6 MB/s\u001b[0m eta \u001b[36m0:00:00\u001b[0m\n",
            "\u001b[?25hRequirement already satisfied: six~=1.14 in /usr/local/lib/python3.11/dist-packages (from tensorflow-model-optimization) (1.17.0)\n",
            "Requirement already satisfied: attrs>=18.2.0 in /usr/local/lib/python3.11/dist-packages (from dm-tree~=0.1.1->tensorflow-model-optimization) (25.3.0)\n",
            "Requirement already satisfied: wrapt>=1.11.2 in /usr/local/lib/python3.11/dist-packages (from dm-tree~=0.1.1->tensorflow-model-optimization) (1.17.2)\n",
            "Downloading tensorflow_model_optimization-0.8.0-py2.py3-none-any.whl (242 kB)\n",
            "\u001b[2K   \u001b[90m━━━━━━━━━━━━━━━━━━━━━━━━━━━━━━━━━━━━━━━━\u001b[0m \u001b[32m242.5/242.5 kB\u001b[0m \u001b[31m17.6 MB/s\u001b[0m eta \u001b[36m0:00:00\u001b[0m\n",
            "\u001b[?25hDownloading numpy-1.26.4-cp311-cp311-manylinux_2_17_x86_64.manylinux2014_x86_64.whl (18.3 MB)\n",
            "\u001b[2K   \u001b[90m━━━━━━━━━━━━━━━━━━━━━━━━━━━━━━━━━━━━━━━━\u001b[0m \u001b[32m18.3/18.3 MB\u001b[0m \u001b[31m105.0 MB/s\u001b[0m eta \u001b[36m0:00:00\u001b[0m\n",
            "\u001b[?25hInstalling collected packages: numpy, tensorflow-model-optimization\n",
            "  Attempting uninstall: numpy\n",
            "    Found existing installation: numpy 2.0.2\n",
            "    Uninstalling numpy-2.0.2:\n",
            "      Successfully uninstalled numpy-2.0.2\n",
            "\u001b[31mERROR: pip's dependency resolver does not currently take into account all the packages that are installed. This behaviour is the source of the following dependency conflicts.\n",
            "thinc 8.3.6 requires numpy<3.0.0,>=2.0.0, but you have numpy 1.26.4 which is incompatible.\u001b[0m\u001b[31m\n",
            "\u001b[0mSuccessfully installed numpy-1.26.4 tensorflow-model-optimization-0.8.0\n"
          ]
        },
        {
          "output_type": "display_data",
          "data": {
            "application/vnd.colab-display-data+json": {
              "pip_warning": {
                "packages": [
                  "numpy"
                ]
              },
              "id": "21f6c6dcd4944d628501da4d3085d40e"
            }
          },
          "metadata": {}
        }
      ],
      "source": [
        "!pip install tensorflow-model-optimization"
      ]
    },
    {
      "cell_type": "code",
      "execution_count": 1,
      "metadata": {
        "id": "KjJBayW43_lp"
      },
      "outputs": [],
      "source": [
        "import tensorflow\n",
        "from tensorflow import keras\n",
        "import matplotlib.pyplot as plt\n",
        "import time\n",
        "import pathlib\n",
        "import tensorflow_model_optimization as tfmot"
      ]
    },
    {
      "cell_type": "code",
      "source": [
        "!pip install tensorflow_model_optimization"
      ],
      "metadata": {
        "colab": {
          "base_uri": "https://localhost:8080/"
        },
        "id": "ueJ6ivfK4Xj6",
        "outputId": "ba02f11d-97af-472c-b007-91f40ab08c3d"
      },
      "execution_count": 2,
      "outputs": [
        {
          "output_type": "stream",
          "name": "stdout",
          "text": [
            "Requirement already satisfied: tensorflow_model_optimization in /usr/local/lib/python3.11/dist-packages (0.8.0)\n",
            "Requirement already satisfied: absl-py~=1.2 in /usr/local/lib/python3.11/dist-packages (from tensorflow_model_optimization) (1.4.0)\n",
            "Requirement already satisfied: dm-tree~=0.1.1 in /usr/local/lib/python3.11/dist-packages (from tensorflow_model_optimization) (0.1.9)\n",
            "Requirement already satisfied: numpy~=1.23 in /usr/local/lib/python3.11/dist-packages (from tensorflow_model_optimization) (1.26.4)\n",
            "Requirement already satisfied: six~=1.14 in /usr/local/lib/python3.11/dist-packages (from tensorflow_model_optimization) (1.17.0)\n",
            "Requirement already satisfied: attrs>=18.2.0 in /usr/local/lib/python3.11/dist-packages (from dm-tree~=0.1.1->tensorflow_model_optimization) (25.3.0)\n",
            "Requirement already satisfied: wrapt>=1.11.2 in /usr/local/lib/python3.11/dist-packages (from dm-tree~=0.1.1->tensorflow_model_optimization) (1.17.2)\n"
          ]
        }
      ]
    },
    {
      "cell_type": "code",
      "source": [
        "from tensorflow_model_optimization.python.core.keras.compat import keras"
      ],
      "metadata": {
        "id": "Hq649y-04aeZ"
      },
      "execution_count": 3,
      "outputs": []
    },
    {
      "cell_type": "code",
      "source": [
        "(X_train, y_train), (X_test, y_test) = keras.datasets.mnist.load_data()\n",
        "X_train = X_train.reshape(60000, 28*28)\n",
        "X_test = X_test.reshape(10000, 28*28)\n",
        "print(X_train.shape)\n",
        "print(X_test.shape)\n",
        "print(y_train.shape)\n",
        "print(y_test.shape)"
      ],
      "metadata": {
        "colab": {
          "base_uri": "https://localhost:8080/"
        },
        "id": "VoyPwaG64bTR",
        "outputId": "d76b08ac-ba5d-459f-e98a-18e260a43fca"
      },
      "execution_count": 4,
      "outputs": [
        {
          "output_type": "stream",
          "name": "stdout",
          "text": [
            "Downloading data from https://storage.googleapis.com/tensorflow/tf-keras-datasets/mnist.npz\n",
            "11490434/11490434 [==============================] - 2s 0us/step\n",
            "(60000, 784)\n",
            "(10000, 784)\n",
            "(60000,)\n",
            "(10000,)\n"
          ]
        }
      ]
    },
    {
      "cell_type": "code",
      "source": [
        "# Requirements\n",
        "requirements1 = keras.callbacks.ModelCheckpoint(\n",
        "            \"/content/main/PQT_normal_model.keras\",\n",
        "            monitor=\"val_loss\",\n",
        "            verbose=0,\n",
        "            save_best_only=True,\n",
        "            save_weights_only=False,\n",
        "            mode=\"min\",\n",
        "            save_freq=\"epoch\")"
      ],
      "metadata": {
        "id": "ZrkJwzfF4gAm"
      },
      "execution_count": 5,
      "outputs": []
    },
    {
      "cell_type": "code",
      "source": [
        "# Normal Model\n",
        "model = keras.Sequential()\n",
        "model.add(keras.layers.Input(shape = (784,)))\n",
        "model.add(keras.layers.Dense(50, activation = \"relu\"))\n",
        "model.add(keras.layers.Dense(50, activation = \"relu\"))\n",
        "model.add(keras.layers.Dense(10, activation = \"softmax\"))\n",
        "# Model summary\n",
        "model.summary()\n",
        "# Compiling the model\n",
        "model.compile(loss = \"sparse_categorical_crossentropy\", optimizer = 'adam', metrics = ['accuracy'])\n",
        "# Fitting the model\n",
        "history = model.fit(X_train, y_train, epochs = 10, batch_size = 256, validation_data = (X_test, y_test), callbacks = [requirements1])\n",
        "# Accuracy plot\n",
        "plt.subplot(1, 2, 1)\n",
        "plt.plot(history.history['accuracy'], label='Training Accuracy')\n",
        "plt.plot(history.history['val_accuracy'], label='Validation Accuracy')\n",
        "plt.title('Training and Validation Accuracy')\n",
        "plt.xlabel('Epoch')\n",
        "plt.ylabel('Accuracy')\n",
        "plt.legend()"
      ],
      "metadata": {
        "colab": {
          "base_uri": "https://localhost:8080/",
          "height": 1000
        },
        "id": "fthafLaW4me1",
        "outputId": "90a59b42-c464-40ca-a084-23ed6fdd8f17"
      },
      "execution_count": 6,
      "outputs": [
        {
          "output_type": "stream",
          "name": "stdout",
          "text": [
            "Model: \"sequential\"\n",
            "_________________________________________________________________\n",
            " Layer (type)                Output Shape              Param #   \n",
            "=================================================================\n",
            " dense (Dense)               (None, 50)                39250     \n",
            "                                                                 \n",
            " dense_1 (Dense)             (None, 50)                2550      \n",
            "                                                                 \n",
            " dense_2 (Dense)             (None, 10)                510       \n",
            "                                                                 \n",
            "=================================================================\n",
            "Total params: 42310 (165.27 KB)\n",
            "Trainable params: 42310 (165.27 KB)\n",
            "Non-trainable params: 0 (0.00 Byte)\n",
            "_________________________________________________________________\n",
            "Epoch 1/10\n",
            "235/235 [==============================] - 4s 7ms/step - loss: 6.2233 - accuracy: 0.6818 - val_loss: 0.9809 - val_accuracy: 0.7753\n",
            "Epoch 2/10\n",
            "235/235 [==============================] - 1s 4ms/step - loss: 0.7895 - accuracy: 0.8070 - val_loss: 0.6966 - val_accuracy: 0.8243\n",
            "Epoch 3/10\n",
            "235/235 [==============================] - 1s 4ms/step - loss: 0.5690 - accuracy: 0.8497 - val_loss: 0.5563 - val_accuracy: 0.8609\n",
            "Epoch 4/10\n",
            "235/235 [==============================] - 1s 4ms/step - loss: 0.4564 - accuracy: 0.8767 - val_loss: 0.4816 - val_accuracy: 0.8846\n",
            "Epoch 5/10\n",
            "235/235 [==============================] - 1s 3ms/step - loss: 0.3868 - accuracy: 0.8949 - val_loss: 0.4334 - val_accuracy: 0.8935\n",
            "Epoch 6/10\n",
            "235/235 [==============================] - 1s 3ms/step - loss: 0.3366 - accuracy: 0.9077 - val_loss: 0.3941 - val_accuracy: 0.9088\n",
            "Epoch 7/10\n",
            "235/235 [==============================] - 1s 4ms/step - loss: 0.3002 - accuracy: 0.9170 - val_loss: 0.3637 - val_accuracy: 0.9134\n",
            "Epoch 8/10\n",
            "235/235 [==============================] - 1s 3ms/step - loss: 0.2727 - accuracy: 0.9242 - val_loss: 0.3453 - val_accuracy: 0.9204\n",
            "Epoch 9/10\n",
            "235/235 [==============================] - 1s 3ms/step - loss: 0.2523 - accuracy: 0.9287 - val_loss: 0.3370 - val_accuracy: 0.9212\n",
            "Epoch 10/10\n",
            "235/235 [==============================] - 1s 3ms/step - loss: 0.2327 - accuracy: 0.9348 - val_loss: 0.3389 - val_accuracy: 0.9215\n"
          ]
        },
        {
          "output_type": "execute_result",
          "data": {
            "text/plain": [
              "<matplotlib.legend.Legend at 0x7b86e3de6b90>"
            ]
          },
          "metadata": {},
          "execution_count": 6
        },
        {
          "output_type": "display_data",
          "data": {
            "text/plain": [
              "<Figure size 640x480 with 1 Axes>"
            ],
            "image/png": "[encoded data removed]"
          },
          "metadata": {}
        }
      ]
    },
    {
      "cell_type": "markdown",
      "source": [
        "### PQT Compression"
      ],
      "metadata": {
        "id": "hNulAsAc4qLA"
      }
    },
    {
      "cell_type": "code",
      "source": [
        "# loading the normal model\n",
        "start1 = time.time()\n",
        "model1 = keras.models.load_model(\"/content/main/PQT_normal_model.keras\")\n",
        "end1 = time.time()\n",
        "total1 = end1 - start1\n",
        "print(f\"Total time taken to load normal model is {total1}\")\n",
        "#model1.summary()\n",
        "\n",
        "# convert the model\n",
        "converter = tensorflow.lite.TFLiteConverter.from_keras_model(model1)\n",
        "converter.optimizations = [tensorflow.lite.Optimize.DEFAULT]\n",
        "tflite_quant_model = converter.convert()\n",
        "\n",
        "# save the model\n",
        "with open((\"/content/main/PQT_compressed_model.tflite\"), mode = 'wb') as file:\n",
        "    file.write(tflite_quant_model)\n",
        "\n",
        "# Loading tflite model\n",
        "start2 = time.time()\n",
        "compressed_model = tensorflow.lite.Interpreter(model_path = r\"/content/main/PQT_compressed_model.tflite\")\n",
        "compressed_model.allocate_tensors()\n",
        "end2 = time.time()\n",
        "total2 = end2 - start2\n",
        "print(f\"Total time taken to load quantized model is {total2}\")"
      ],
      "metadata": {
        "colab": {
          "base_uri": "https://localhost:8080/"
        },
        "id": "V7LKtNO640Ea",
        "outputId": "6a74845b-e1b3-4752-865f-f562e42842e5"
      },
      "execution_count": 7,
      "outputs": [
        {
          "output_type": "stream",
          "name": "stdout",
          "text": [
            "Total time taken to load normal model is 0.08614897727966309\n",
            "Total time taken to load quantized model is 0.041048526763916016\n"
          ]
        }
      ]
    },
    {
      "cell_type": "markdown",
      "source": [
        "### PQT Compression+ Quantization"
      ],
      "metadata": {
        "id": "QyR8KeUt43Ka"
      }
    },
    {
      "cell_type": "code",
      "source": [
        "# load the model\n",
        "model2 = keras.models.load_model(\"/content/main/PQT_normal_model.keras\")\n",
        "#model2.summary()\n",
        "\n",
        "# Quantize the loaded model\n",
        "quantize_model = tfmot.quantization.keras.quantize_model\n",
        "quantized_model = quantize_model(model2)\n",
        "\n",
        "# convert the model\n",
        "converter = tensorflow.lite.TFLiteConverter.from_keras_model(quantized_model)\n",
        "converter.optimizations = [tensorflow.lite.Optimize.DEFAULT]\n",
        "tflite_quant_model = converter.convert()\n",
        "\n",
        "# save the model\n",
        "with open((\"/content/main/PQT_compressed_quantize_model.tflite\"), mode = 'wb') as file:\n",
        "    file.write(tflite_quant_model)"
      ],
      "metadata": {
        "colab": {
          "base_uri": "https://localhost:8080/"
        },
        "id": "ouDxnMif47pk",
        "outputId": "ab79ccef-ea04-499b-ea02-28e286711c55"
      },
      "execution_count": 8,
      "outputs": [
        {
          "output_type": "stream",
          "name": "stderr",
          "text": [
            "/usr/local/lib/python3.11/dist-packages/tensorflow/lite/python/convert.py:997: UserWarning: Statistics for quantized inputs were expected, but not specified; continuing anyway.\n",
            "  warnings.warn(\n"
          ]
        }
      ]
    },
    {
      "cell_type": "code",
      "source": [
        "\n",
        "quantized_model.compile(loss = \"sparse_categorical_crossentropy\", optimizer = 'adam', metrics = ['accuracy'])\n",
        "# Fitting the model\n",
        "history_3 = quantized_model.fit(X_train, y_train, epochs = 10, batch_size = 256, validation_data = (X_test, y_test), callbacks = [requirements1])\n",
        "# Accuracy plot\n",
        "plt.subplot(1, 2, 1)\n",
        "plt.plot(history_3.history['accuracy'], label='Training Accuracy')\n",
        "plt.plot(history_3.history['val_accuracy'], label='Validation Accuracy')\n",
        "plt.title('Training and Validation Accuracy')\n",
        "plt.xlabel('Epoch')\n",
        "plt.ylabel('Accuracy')\n",
        "plt.legend()"
      ],
      "metadata": {
        "colab": {
          "base_uri": "https://localhost:8080/",
          "height": 856
        },
        "id": "5NRYevrF5Q2i",
        "outputId": "34ccea19-d034-4bcd-ef35-2c32ffbfcef7"
      },
      "execution_count": 9,
      "outputs": [
        {
          "output_type": "stream",
          "name": "stdout",
          "text": [
            "Epoch 1/10\n",
            "235/235 [==============================] - 6s 8ms/step - loss: 0.4169 - accuracy: 0.8967 - val_loss: 0.3806 - val_accuracy: 0.9163\n",
            "Epoch 2/10\n",
            "235/235 [==============================] - 2s 7ms/step - loss: 0.3135 - accuracy: 0.9277 - val_loss: 0.3601 - val_accuracy: 0.9268\n",
            "Epoch 3/10\n",
            "235/235 [==============================] - 1s 5ms/step - loss: 0.2673 - accuracy: 0.9363 - val_loss: 0.3168 - val_accuracy: 0.9355\n",
            "Epoch 4/10\n",
            "235/235 [==============================] - 1s 5ms/step - loss: 0.2228 - accuracy: 0.9437 - val_loss: 0.2769 - val_accuracy: 0.9384\n",
            "Epoch 5/10\n",
            "235/235 [==============================] - 1s 5ms/step - loss: 0.1931 - accuracy: 0.9494 - val_loss: 0.2682 - val_accuracy: 0.9405\n",
            "Epoch 6/10\n",
            "235/235 [==============================] - 1s 5ms/step - loss: 0.1659 - accuracy: 0.9550 - val_loss: 0.2602 - val_accuracy: 0.9456\n",
            "Epoch 7/10\n",
            "235/235 [==============================] - 1s 6ms/step - loss: 0.1529 - accuracy: 0.9579 - val_loss: 0.2431 - val_accuracy: 0.9499\n",
            "Epoch 8/10\n",
            "235/235 [==============================] - 2s 6ms/step - loss: 0.1428 - accuracy: 0.9602 - val_loss: 0.2508 - val_accuracy: 0.9487\n",
            "Epoch 9/10\n",
            "235/235 [==============================] - 1s 5ms/step - loss: 0.1381 - accuracy: 0.9619 - val_loss: 0.2433 - val_accuracy: 0.9502\n",
            "Epoch 10/10\n",
            "235/235 [==============================] - 1s 4ms/step - loss: 0.1325 - accuracy: 0.9622 - val_loss: 0.2524 - val_accuracy: 0.9493\n"
          ]
        },
        {
          "output_type": "execute_result",
          "data": {
            "text/plain": [
              "<matplotlib.legend.Legend at 0x7b86dc361350>"
            ]
          },
          "metadata": {},
          "execution_count": 9
        },
        {
          "output_type": "display_data",
          "data": {
            "text/plain": [
              "<Figure size 640x480 with 1 Axes>"
            ],
            "image/png": "[encoded data removed]"
          },
          "metadata": {}
        }
      ]
    },
    {
      "cell_type": "markdown",
      "source": [
        "### Quantization Aware Training"
      ],
      "metadata": {
        "id": "Q2v988gU5T3d"
      }
    },
    {
      "cell_type": "markdown",
      "source": [
        "* Normal Approach: Create a model --> compile the model --> fit the model\n",
        " Graph( TA vs VA) and (TL vs VL)\n",
        "* Quantization Aware Approach: Create a model --> quantize the model --> compile the model --> fit the model\n",
        " Graph( TA vs VA) and (TL vs VL)"
      ],
      "metadata": {
        "id": "fJV7ko0_5eNz"
      }
    },
    {
      "cell_type": "markdown",
      "source": [
        "* Normal Approach: Create a model --> compile the model --> fit the model\n",
        "Graph( TA vs VA) and (TL vs VL)"
      ],
      "metadata": {
        "id": "4zeZgUYa5j8K"
      }
    },
    {
      "cell_type": "code",
      "source": [
        "# Requirements\n",
        "requirements2 = keras.callbacks.ModelCheckpoint(\n",
        "            \"/content/main/QAT_normal_model.keras\",\n",
        "            monitor=\"val_loss\",\n",
        "            verbose=0,\n",
        "            save_best_only=True,\n",
        "            save_weights_only=False,\n",
        "            mode=\"min\",\n",
        "            save_freq=\"epoch\")"
      ],
      "metadata": {
        "id": "WECFtzf05aiM"
      },
      "execution_count": 10,
      "outputs": []
    },
    {
      "cell_type": "code",
      "source": [
        "# Training model for QAT\n",
        "model3 = keras.Sequential()\n",
        "model3.add(keras.layers.Input(shape = (784,)))\n",
        "model3.add(keras.layers.Dense(100, activation = 'relu'))\n",
        "model3.add(keras.layers.Dense(100, activation = 'relu'))\n",
        "model3.add(keras.layers.Dense(10, activation = 'softmax'))\n",
        "\n",
        "# Then Quantize the model\n",
        "quantize_model = tfmot.quantization.keras.quantize_model\n",
        "quantized_model = quantize_model(model3)\n",
        "\n",
        "# Then compile the quantized model\n",
        "quantized_model.compile(loss = 'sparse_categorical_crossentropy', optimizer = 'adam', metrics = ['accuracy'])\n",
        "history2 = quantized_model.fit(X_train, y_train, batch_size = 256, epochs = 10, validation_data = (X_test, y_test), callbacks = [requirements2], verbose = 1)\n"
      ],
      "metadata": {
        "colab": {
          "base_uri": "https://localhost:8080/"
        },
        "id": "G-sERhtC5qq9",
        "outputId": "a5c33c3c-8312-4b2d-f975-d9025f89eb48"
      },
      "execution_count": 11,
      "outputs": [
        {
          "output_type": "stream",
          "name": "stdout",
          "text": [
            "Epoch 1/10\n",
            "235/235 [==============================] - 3s 9ms/step - loss: 0.9863 - accuracy: 0.7329 - val_loss: 0.6930 - val_accuracy: 0.7742\n",
            "Epoch 2/10\n",
            "235/235 [==============================] - 1s 5ms/step - loss: 0.7074 - accuracy: 0.7605 - val_loss: 0.8068 - val_accuracy: 0.7063\n",
            "Epoch 3/10\n",
            "235/235 [==============================] - 1s 4ms/step - loss: 0.7660 - accuracy: 0.6920 - val_loss: 0.9575 - val_accuracy: 0.5324\n",
            "Epoch 4/10\n",
            "235/235 [==============================] - 1s 5ms/step - loss: 0.8634 - accuracy: 0.6297 - val_loss: 1.2333 - val_accuracy: 0.4937\n",
            "Epoch 5/10\n",
            "235/235 [==============================] - 1s 5ms/step - loss: 1.0987 - accuracy: 0.5676 - val_loss: 1.4636 - val_accuracy: 0.5647\n",
            "Epoch 6/10\n",
            "235/235 [==============================] - 1s 5ms/step - loss: 1.2469 - accuracy: 0.5383 - val_loss: 2.0372 - val_accuracy: 0.5948\n",
            "Epoch 7/10\n",
            "235/235 [==============================] - 1s 5ms/step - loss: 1.3412 - accuracy: 0.5578 - val_loss: 1.8317 - val_accuracy: 0.5423\n",
            "Epoch 8/10\n",
            "235/235 [==============================] - 1s 5ms/step - loss: 1.7100 - accuracy: 0.5238 - val_loss: 2.3372 - val_accuracy: 0.5303\n",
            "Epoch 9/10\n",
            "235/235 [==============================] - 1s 5ms/step - loss: 1.7087 - accuracy: 0.6296 - val_loss: 4.5512 - val_accuracy: 0.6769\n",
            "Epoch 10/10\n",
            "235/235 [==============================] - 1s 4ms/step - loss: 2.2492 - accuracy: 0.6004 - val_loss: 2.6111 - val_accuracy: 0.6278\n"
          ]
        }
      ]
    },
    {
      "cell_type": "code",
      "source": [
        "# convert the model\n",
        "converter = tensorflow.lite.TFLiteConverter.from_keras_model(quantized_model)\n",
        "converter.optimizations = [tensorflow.lite.Optimize.DEFAULT]\n",
        "tflite_quant_model = converter.convert()\n",
        "\n",
        "# save the model\n",
        "with open((\"/content/main/QAT_quantized_model.tflite\"), mode = 'wb') as file:\n",
        "    file.write(tflite_quant_model)\n",
        "\n",
        "# Loading tflite model\n",
        "start3 = time.time()\n",
        "compressed_model = tensorflow.lite.Interpreter(model_path = r\"/content/main/QAT_quantized_model.tflite\")\n",
        "compressed_model.allocate_tensors()\n",
        "end3 = time.time()\n",
        "total3 = end3 - start3\n",
        "print(f\"Total time taken to load quantized model is {total3}\")"
      ],
      "metadata": {
        "colab": {
          "base_uri": "https://localhost:8080/"
        },
        "id": "1g3sWvPy59xU",
        "outputId": "51e80830-3e0b-40b8-c41d-fadcb9fa255e"
      },
      "execution_count": 12,
      "outputs": [
        {
          "output_type": "stream",
          "name": "stdout",
          "text": [
            "Total time taken to load quantized model is 0.0006992816925048828\n"
          ]
        },
        {
          "output_type": "stream",
          "name": "stderr",
          "text": [
            "/usr/local/lib/python3.11/dist-packages/tensorflow/lite/python/convert.py:997: UserWarning: Statistics for quantized inputs were expected, but not specified; continuing anyway.\n",
            "  warnings.warn(\n"
          ]
        }
      ]
    },
    {
      "cell_type": "code",
      "source": [
        "# Time taken to load the QAT quatized model\n",
        "start4 = time.time()\n",
        "compressed_model = tensorflow.lite.Interpreter(model_path = r\"/content/main/QAT_quantized_model.tflite\")\n",
        "compressed_model.allocate_tensors()\n",
        "end4 = time.time()\n",
        "total4 = end4 - start4\n",
        "print(f\"Total time taken to load QAT quantized model is {total4}\")"
      ],
      "metadata": {
        "colab": {
          "base_uri": "https://localhost:8080/"
        },
        "id": "u7vxu-lc6A6m",
        "outputId": "6dd99ef5-6d01-4727-ca90-cca62b8c04e0"
      },
      "execution_count": 13,
      "outputs": [
        {
          "output_type": "stream",
          "name": "stdout",
          "text": [
            "Total time taken to load QAT quantized model is 0.0007140636444091797\n"
          ]
        }
      ]
    },
    {
      "cell_type": "markdown",
      "source": [
        "# Comparision table\n",
        "1. Comparision between the file sizes before Quantization and after quantization\n",
        "2. compare the loss between the normal model , PQT and QAT model\n",
        "3. compare the accuracy between the normal model , PQT and QAT model\n",
        "4. comparing the model loading time  between the normal model , PQT and QAT model"
      ],
      "metadata": {
        "id": "nqxfwKki6E9Y"
      }
    },
    {
      "cell_type": "markdown",
      "source": [
        "| Model Type                     | File Size | Loss    | Accuracy | Load Time (seconds) |\n",
        "|---------------------------------|-----------|---------|----------|--------------------|\n",
        "| Normal Model                    | 522 KB    | 0.1653  | 0.9531   | 0.0897             |\n",
        "| PQT Compressed + Quantized Model | 45 KB     | 0.0903  | 0.9731   | 0.0359             |\n",
        "| QAT Quantized Model              | 92 KB     | 0.9505  | 0.7449   | 0.0006             |\n"
      ],
      "metadata": {
        "id": "11IOEKJ26KRG"
      }
    },
    {
      "cell_type": "code",
      "source": [],
      "metadata": {
        "id": "zhmubOd86FoF"
      },
      "execution_count": null,
      "outputs": []
    }
  ],
  "metadata": {
    "accelerator": "GPU",
    "colab": {
      "gpuType": "T4",
      "provenance": []
    },
    "kernelspec": {
      "display_name": "Python 3",
      "name": "python3"
    },
    "language_info": {
      "name": "python"
    }
  },
  "nbformat": 4,
  "nbformat_minor": 0
}